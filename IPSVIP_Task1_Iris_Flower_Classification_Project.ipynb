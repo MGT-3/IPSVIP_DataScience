{
 "cells": [
  {
   "cell_type": "markdown",
   "metadata": {},
   "source": [
    "# **Data Science Intern at InfoPillar Solution Pvt Ltd - VIrtual Internship Program**"
   ]
  },
  {
   "cell_type": "markdown",
   "metadata": {},
   "source": [
    "# **Author : LAKSHMI MOUNIKA KELAM**"
   ]
  },
  {
   "cell_type": "markdown",
   "metadata": {},
   "source": [
    "# **Level : Begineer**\n",
    "# **Task 1 : Iris Flowers Classification Project**"
   ]
  },
  {
   "cell_type": "markdown",
   "metadata": {},
   "source": [
    "# SOURCE OF DATASET\n",
    "Dataset: https://archive.ics.uci.edu/ml/datasets/Iris"
   ]
  },
  {
   "cell_type": "markdown",
   "metadata": {},
   "source": [
    "# Here we are going to use 4 different algorithms for classification namely, K-Nearest Neighbours, Decision Tree, Support Vector Machine and Random Forest."
   ]
  },
  {
   "cell_type": "markdown",
   "metadata": {},
   "source": [
    "# import libraries and modules"
   ]
  },
  {
   "cell_type": "code",
   "execution_count": 258,
   "metadata": {},
   "outputs": [],
   "source": [
    "# general and data handling\n",
    "import numpy as np\n",
    "import pandas as pd\n",
    "import os\n",
    "from collections import Counter\n",
    "from sklearn.metrics import roc_auc_score\n",
    "# modeling\n",
    "import sklearn as sk\n",
    "from sklearn import metrics\n",
    "from sklearn.metrics import accuracy_score, confusion_matrix,average_precision_score\n",
    "from sklearn.model_selection import cross_val_score\n",
    "from sklearn.model_selection import train_test_split\n",
    "from sklearn.model_selection import validation_curve\n",
    "from sklearn.linear_model import LogisticRegression\n",
    "from sklearn.linear_model import LogisticRegressionCV\n",
    "from sklearn.metrics import classification_report\n",
    "from sklearn.neighbors import KNeighborsClassifier\n",
    "from sklearn.model_selection import GridSearchCV\n",
    "from sklearn.ensemble import GradientBoostingClassifier\n",
    "# Graphing\n",
    "import matplotlib.pyplot as plt\n",
    "import seaborn as sns"
   ]
  },
  {
   "cell_type": "markdown",
   "metadata": {},
   "source": [
    "# importing dataset"
   ]
  },
  {
   "cell_type": "code",
   "execution_count": 259,
   "metadata": {},
   "outputs": [
    {
     "data": {
      "text/html": [
       "<div>\n",
       "<style scoped>\n",
       "    .dataframe tbody tr th:only-of-type {\n",
       "        vertical-align: middle;\n",
       "    }\n",
       "\n",
       "    .dataframe tbody tr th {\n",
       "        vertical-align: top;\n",
       "    }\n",
       "\n",
       "    .dataframe thead th {\n",
       "        text-align: right;\n",
       "    }\n",
       "</style>\n",
       "<table border=\"1\" class=\"dataframe\">\n",
       "  <thead>\n",
       "    <tr style=\"text-align: right;\">\n",
       "      <th></th>\n",
       "      <th>sepal_length</th>\n",
       "      <th>sepal_width</th>\n",
       "      <th>petal_length</th>\n",
       "      <th>petal_width</th>\n",
       "      <th>species</th>\n",
       "    </tr>\n",
       "  </thead>\n",
       "  <tbody>\n",
       "    <tr>\n",
       "      <th>0</th>\n",
       "      <td>5.1</td>\n",
       "      <td>3.5</td>\n",
       "      <td>1.4</td>\n",
       "      <td>0.2</td>\n",
       "      <td>Iris-setosa</td>\n",
       "    </tr>\n",
       "    <tr>\n",
       "      <th>1</th>\n",
       "      <td>4.9</td>\n",
       "      <td>3.0</td>\n",
       "      <td>1.4</td>\n",
       "      <td>0.2</td>\n",
       "      <td>Iris-setosa</td>\n",
       "    </tr>\n",
       "    <tr>\n",
       "      <th>2</th>\n",
       "      <td>4.7</td>\n",
       "      <td>3.2</td>\n",
       "      <td>1.3</td>\n",
       "      <td>0.2</td>\n",
       "      <td>Iris-setosa</td>\n",
       "    </tr>\n",
       "    <tr>\n",
       "      <th>3</th>\n",
       "      <td>4.6</td>\n",
       "      <td>3.1</td>\n",
       "      <td>1.5</td>\n",
       "      <td>0.2</td>\n",
       "      <td>Iris-setosa</td>\n",
       "    </tr>\n",
       "    <tr>\n",
       "      <th>4</th>\n",
       "      <td>5.0</td>\n",
       "      <td>3.6</td>\n",
       "      <td>1.4</td>\n",
       "      <td>0.2</td>\n",
       "      <td>Iris-setosa</td>\n",
       "    </tr>\n",
       "  </tbody>\n",
       "</table>\n",
       "</div>"
      ],
      "text/plain": [
       "   sepal_length  sepal_width  petal_length  petal_width      species\n",
       "0           5.1          3.5           1.4          0.2  Iris-setosa\n",
       "1           4.9          3.0           1.4          0.2  Iris-setosa\n",
       "2           4.7          3.2           1.3          0.2  Iris-setosa\n",
       "3           4.6          3.1           1.5          0.2  Iris-setosa\n",
       "4           5.0          3.6           1.4          0.2  Iris-setosa"
      ]
     },
     "execution_count": 259,
     "metadata": {},
     "output_type": "execute_result"
    }
   ],
   "source": [
    "import pandas as pd\n",
    "import numpy as np\n",
    "Location = r'C:\\Users\\niper5\\mounika_model\\Iris_Data.csv'\n",
    "df = pd.read_csv(Location)\n",
    "df.head()"
   ]
  },
  {
   "cell_type": "code",
   "execution_count": 260,
   "metadata": {},
   "outputs": [
    {
     "data": {
      "text/plain": [
       "(150, 5)"
      ]
     },
     "execution_count": 260,
     "metadata": {},
     "output_type": "execute_result"
    }
   ],
   "source": [
    "df.shape"
   ]
  },
  {
   "cell_type": "markdown",
   "metadata": {},
   "source": [
    "# converting descriptor values in array"
   ]
  },
  {
   "cell_type": "code",
   "execution_count": 261,
   "metadata": {},
   "outputs": [],
   "source": [
    "x_morg = df[['sepal_length', 'sepal_width', 'petal_length', 'petal_width']].values"
   ]
  },
  {
   "cell_type": "code",
   "execution_count": 262,
   "metadata": {},
   "outputs": [],
   "source": [
    "#classification labels\n",
    "y = df.species.values"
   ]
  },
  {
   "cell_type": "markdown",
   "metadata": {},
   "source": [
    "# splitting of dataset into traning and test"
   ]
  },
  {
   "cell_type": "code",
   "execution_count": 263,
   "metadata": {},
   "outputs": [],
   "source": [
    "#Partitioning the data into an 70/30 train/test split\n",
    "x_morg_train, x_morg_test, y_morg_train, y_morg_test = train_test_split(x_morg, y, test_size=0.30, random_state=1,stratify=y)"
   ]
  },
  {
   "cell_type": "code",
   "execution_count": 264,
   "metadata": {},
   "outputs": [
    {
     "data": {
      "text/plain": [
       "(105, 45)"
      ]
     },
     "execution_count": 264,
     "metadata": {},
     "output_type": "execute_result"
    }
   ],
   "source": [
    "len(x_morg_train),len(x_morg_test)"
   ]
  },
  {
   "cell_type": "markdown",
   "metadata": {},
   "source": [
    "# Normalization of data¶"
   ]
  },
  {
   "cell_type": "code",
   "execution_count": 265,
   "metadata": {},
   "outputs": [],
   "source": [
    "from sklearn import preprocessing"
   ]
  },
  {
   "cell_type": "code",
   "execution_count": 266,
   "metadata": {},
   "outputs": [
    {
     "data": {
      "text/plain": [
       "array([[-0.4301064 ,  2.63118533, -1.33269725, -1.30380366],\n",
       "       [-0.55053619,  0.76918392, -1.16537974, -1.30380366],\n",
       "       [ 0.65376173,  0.30368356,  0.84243039,  1.44465434],\n",
       "       [ 1.0150511 ,  0.53643374,  1.0655204 ,  1.18289644],\n",
       "       [-1.03225536,  0.30368356, -1.44424226, -1.30380366]])"
      ]
     },
     "execution_count": 266,
     "metadata": {},
     "output_type": "execute_result"
    }
   ],
   "source": [
    "x_morg_train = preprocessing.StandardScaler().fit(x_morg_train).transform(x_morg_train.astype(float))\n",
    "x_morg_train[0:5]"
   ]
  },
  {
   "cell_type": "code",
   "execution_count": 267,
   "metadata": {},
   "outputs": [
    {
     "data": {
      "text/plain": [
       "array([[ 0.47865332,  0.87709451,  1.0240263 ,  1.45595692],\n",
       "       [-0.50600494,  2.02445651, -1.18739236, -1.06907993],\n",
       "       [-1.49066319,  0.87709451, -1.36669657, -1.20197661],\n",
       "       [-1.12141635, -1.1881571 ,  0.48611365,  0.65857686],\n",
       "       [ 0.97098245, -0.04079509,  0.42634558,  0.25988683]])"
      ]
     },
     "execution_count": 267,
     "metadata": {},
     "output_type": "execute_result"
    }
   ],
   "source": [
    "x_morg_test = preprocessing.StandardScaler().fit(x_morg_test).transform(x_morg_test.astype(float))\n",
    "x_morg_test[0:5]"
   ]
  },
  {
   "cell_type": "code",
   "execution_count": 268,
   "metadata": {},
   "outputs": [],
   "source": [
    "def confusion_matrix_plot(predictions):\n",
    "    labels = ['Iris-virginica', 'Iris-setosa', 'Iris-versicolor']\n",
    "\n",
    "    matrix = confusion_matrix(predictions,y_morg_test,labels=labels)\n",
    "\n",
    "    fig, ax = plt.subplots(figsize=(8,6))\n",
    "    ax = sns.heatmap(matrix, annot = True, xticklabels = labels, yticklabels = labels, cmap = \"Blues\")\n",
    "    ax.set_title(\"Confusion Matrix\", fontsize=18)\n",
    "    ax.set_xlabel(\"Predicted\", fontsize=14)\n",
    "    ax.set_ylabel(\"Actual\", fontsize=14)"
   ]
  },
  {
   "cell_type": "markdown",
   "metadata": {},
   "source": [
    "# 1.support vector machine model"
   ]
  },
  {
   "cell_type": "markdown",
   "metadata": {},
   "source": [
    "# tunning of parameters"
   ]
  },
  {
   "cell_type": "code",
   "execution_count": 269,
   "metadata": {},
   "outputs": [
    {
     "name": "stdout",
     "output_type": "stream",
     "text": [
      "Best parameters for the SVM model: \n",
      " {'C': 1, 'gamma': 0.1, 'kernel': 'rbf'}\n",
      "accuracy for the SVM model: \n",
      " 0.9800000000000001\n"
     ]
    }
   ],
   "source": [
    "from sklearn.svm import SVC\n",
    "model1 =SVC(class_weight='balanced',random_state=0)\n",
    "#tunning\n",
    "kernel=['rbf','linear']\n",
    "C=[0.1,0.01,0.001,1]\n",
    "gamma=[0.1,0.01,0.001,1]\n",
    "tuning_parameters = dict( C=C,gamma=gamma,kernel=kernel)\n",
    "#grid search\n",
    "grid1=GridSearchCV(model1,tuning_parameters,cv=5,scoring='accuracy', n_jobs=-1)\n",
    "# fit model\n",
    "model1t= grid1.fit(x_morg,y)\n",
    "print(\"Best parameters for the SVM model: \\n\", model1t.best_params_)\n",
    "print(\"accuracy for the SVM model: \\n\", model1t.best_score_)"
   ]
  },
  {
   "cell_type": "markdown",
   "metadata": {},
   "source": [
    "# model development"
   ]
  },
  {
   "cell_type": "code",
   "execution_count": 270,
   "metadata": {},
   "outputs": [
    {
     "data": {
      "text/plain": [
       "SVC(C=1, class_weight='balanced', gamma=0.1, random_state=0)"
      ]
     },
     "execution_count": 270,
     "metadata": {},
     "output_type": "execute_result"
    }
   ],
   "source": [
    "svm =SVC(kernel='rbf',C=1,gamma=0.1,class_weight='balanced',random_state=0)\n",
    "#Fit the model with the training data X_train and y_train\n",
    "svm.fit(x_morg_train, y_morg_train)"
   ]
  },
  {
   "cell_type": "markdown",
   "metadata": {},
   "source": [
    "# predictions"
   ]
  },
  {
   "cell_type": "code",
   "execution_count": 273,
   "metadata": {},
   "outputs": [
    {
     "name": "stdout",
     "output_type": "stream",
     "text": [
      "Accuracy of the SVM model:  0.9555555555555556\n"
     ]
    }
   ],
   "source": [
    "#Use the test data X_test to predict the output,predictions_svm\n",
    "predictions_svm = svm.predict(x_morg_test)\n",
    "#Use the real values y_test and the predicted values yhat_KNN to find the accuracy of the model \n",
    "print(\"Accuracy of the SVM model: \", accuracy_score(y_morg_test, predictions_svm))"
   ]
  },
  {
   "cell_type": "code",
   "execution_count": 226,
   "metadata": {},
   "outputs": [
    {
     "data": {
      "image/png": "[encoded data removed]",
      "text/plain": [
       "<Figure size 576x432 with 2 Axes>"
      ]
     },
     "metadata": {
      "needs_background": "light"
     },
     "output_type": "display_data"
    }
   ],
   "source": [
    "#Plot the confusion matrix. Use the predicted values, yhat_KNN as the attribute.\n",
    "confusion_matrix_plot(predictions_svm)"
   ]
  },
  {
   "cell_type": "markdown",
   "metadata": {},
   "source": [
    "# predictions"
   ]
  },
  {
   "cell_type": "markdown",
   "metadata": {},
   "source": [
    "# 2. random forest"
   ]
  },
  {
   "cell_type": "markdown",
   "metadata": {},
   "source": [
    "# tunning of parameters"
   ]
  },
  {
   "cell_type": "code",
   "execution_count": 227,
   "metadata": {},
   "outputs": [
    {
     "name": "stdout",
     "output_type": "stream",
     "text": [
      "Best parameters for the RandomForest: \n",
      " {'n_estimators': 31}\n",
      "accuracy for the RandomForest model: \n",
      " 0.9666666666666668\n"
     ]
    }
   ],
   "source": [
    "from sklearn.ensemble import RandomForestClassifier\n",
    "model2 = RandomForestClassifier(class_weight='balanced',random_state=0)\n",
    "#tunning\n",
    "n_estimators =list(range(1,100))\n",
    "tuning_parameters = dict(n_estimators = n_estimators)\n",
    "#grid search\n",
    "grid2=GridSearchCV(model2,tuning_parameters,cv=5,scoring='accuracy',n_jobs=-1)\n",
    "# fit model\n",
    "model2t= grid2.fit(x_morg,y)\n",
    "print(\"Best parameters for the RandomForest: \\n\", model2t.best_params_)\n",
    "print(\"accuracy for the RandomForest model: \\n\", model2t.best_score_)"
   ]
  },
  {
   "cell_type": "markdown",
   "metadata": {},
   "source": [
    "# model development"
   ]
  },
  {
   "cell_type": "code",
   "execution_count": 228,
   "metadata": {},
   "outputs": [
    {
     "data": {
      "text/plain": [
       "RandomForestClassifier(class_weight='balanced', n_estimators=31, random_state=0)"
      ]
     },
     "execution_count": 228,
     "metadata": {},
     "output_type": "execute_result"
    }
   ],
   "source": [
    "from sklearn.ensemble import RandomForestClassifier\n",
    "rf=RandomForestClassifier(n_estimators=31,random_state=0, class_weight='balanced')\n",
    "#Fit the model with the training data X_train and y_train\n",
    "rf.fit(x_morg_train, y_morg_train)"
   ]
  },
  {
   "cell_type": "markdown",
   "metadata": {},
   "source": [
    "# predictions"
   ]
  },
  {
   "cell_type": "code",
   "execution_count": 274,
   "metadata": {},
   "outputs": [
    {
     "name": "stdout",
     "output_type": "stream",
     "text": [
      "Accuracy of the RandomForest model:  0.9777777777777777\n"
     ]
    }
   ],
   "source": [
    "#Use the test data X_test to predict the output,predictions_svm\n",
    "predictions_rf = rf.predict(x_morg_test)\n",
    "#Use the real values y_test and the predicted values yhat_KNN to find the accuracy of the model \n",
    "print(\"Accuracy of the RandomForest model: \", accuracy_score(y_morg_test, predictions_rf))"
   ]
  },
  {
   "cell_type": "code",
   "execution_count": 230,
   "metadata": {},
   "outputs": [
    {
     "data": {
      "image/png": "[encoded data removed]",
      "text/plain": [
       "<Figure size 576x432 with 2 Axes>"
      ]
     },
     "metadata": {
      "needs_background": "light"
     },
     "output_type": "display_data"
    }
   ],
   "source": [
    "#Plot the confusion matrix. Use the predicted values, yhat_KNN as the attribute.\n",
    "confusion_matrix_plot(predictions_rf)"
   ]
  },
  {
   "cell_type": "markdown",
   "metadata": {},
   "source": [
    "# 3. knn"
   ]
  },
  {
   "cell_type": "markdown",
   "metadata": {},
   "source": [
    "# tunning of parameters¶"
   ]
  },
  {
   "cell_type": "code",
   "execution_count": 231,
   "metadata": {},
   "outputs": [
    {
     "name": "stdout",
     "output_type": "stream",
     "text": [
      "Best parameters for the knn: \n",
      " {'n_neighbors': 6}\n",
      "accuracy for the knn model: \n",
      " 0.9800000000000001\n"
     ]
    }
   ],
   "source": [
    "from sklearn.neighbors import KNeighborsClassifier\n",
    "model3= KNeighborsClassifier()\n",
    "n_neighbors =list(range(1,10))\n",
    "tuning_parameters = dict(n_neighbors=n_neighbors)\n",
    "#grid search\n",
    "grid3=GridSearchCV(model3,tuning_parameters,cv=5,scoring='accuracy',n_jobs=-1)\n",
    "# fit model\n",
    "model3t= grid3.fit(x_morg,y)\n",
    "print(\"Best parameters for the knn: \\n\", model3t.best_params_)\n",
    "print(\"accuracy for the knn model: \\n\", model3t.best_score_)"
   ]
  },
  {
   "cell_type": "markdown",
   "metadata": {},
   "source": [
    "# model development¶"
   ]
  },
  {
   "cell_type": "code",
   "execution_count": 232,
   "metadata": {},
   "outputs": [
    {
     "data": {
      "text/plain": [
       "KNeighborsClassifier(n_neighbors=6)"
      ]
     },
     "execution_count": 232,
     "metadata": {},
     "output_type": "execute_result"
    }
   ],
   "source": [
    "#KNeighborsClassifier\n",
    "knn= KNeighborsClassifier(n_neighbors=6)\n",
    "#model training\n",
    "knn.fit(x_morg_train, y_morg_train)"
   ]
  },
  {
   "cell_type": "markdown",
   "metadata": {},
   "source": [
    "# predictions"
   ]
  },
  {
   "cell_type": "code",
   "execution_count": 233,
   "metadata": {},
   "outputs": [
    {
     "name": "stdout",
     "output_type": "stream",
     "text": [
      "Accuracy of the knn model:  0.9777777777777777\n"
     ]
    }
   ],
   "source": [
    "#Use the test data X_test to predict the output,predictions_svm\n",
    "predictions_knn = knn.predict(x_morg_test)\n",
    "#Use the real values y_test and the predicted values yhat_KNN to find the accuracy of the model \n",
    "print(\"Accuracy of the knn model: \", accuracy_score(y_morg_test, predictions_knn))"
   ]
  },
  {
   "cell_type": "code",
   "execution_count": 234,
   "metadata": {},
   "outputs": [
    {
     "data": {
      "image/png": "[encoded data removed]",
      "text/plain": [
       "<Figure size 576x432 with 2 Axes>"
      ]
     },
     "metadata": {
      "needs_background": "light"
     },
     "output_type": "display_data"
    }
   ],
   "source": [
    "#Plot the confusion matrix. Use the predicted values, yhat_KNN as the attribute.\n",
    "confusion_matrix_plot(predictions_knn)"
   ]
  },
  {
   "cell_type": "markdown",
   "metadata": {},
   "source": [
    "# DecisionTreeClassifier"
   ]
  },
  {
   "cell_type": "markdown",
   "metadata": {},
   "source": [
    "# tunning of parameters"
   ]
  },
  {
   "cell_type": "code",
   "execution_count": 236,
   "metadata": {},
   "outputs": [
    {
     "name": "stdout",
     "output_type": "stream",
     "text": [
      "Best parameters for the dt model: \n",
      " {'max_depth': 3, 'max_features': 3}\n",
      "accuracy for the dt model: \n",
      " 0.9733333333333333\n"
     ]
    },
    {
     "name": "stderr",
     "output_type": "stream",
     "text": [
      "C:\\Users\\niper5\\anaconda3\\lib\\site-packages\\sklearn\\model_selection\\_search.py:918: UserWarning: One or more of the test scores are non-finite: [0.51333333 0.66       0.66       ...        nan        nan        nan]\n",
      "  warnings.warn(\n"
     ]
    }
   ],
   "source": [
    "from sklearn.tree import DecisionTreeClassifier\n",
    "model4 = DecisionTreeClassifier(random_state=0)\n",
    "max_depth = list(range(1,100))\n",
    "max_features=list(range(1,300))\n",
    "tuning_parameters = dict(max_depth=max_depth,max_features=max_features)\n",
    "#grid search\n",
    "grid4=GridSearchCV(model4,tuning_parameters,cv=3,scoring='accuracy', n_jobs=-1,)\n",
    "# fit model\n",
    "model4t= grid4.fit(x_morg,y)\n",
    "print(\"Best parameters for the dt model: \\n\", model4t.best_params_)\n",
    "print(\"accuracy for the dt model: \\n\", model4t.best_score_)"
   ]
  },
  {
   "cell_type": "markdown",
   "metadata": {},
   "source": [
    "# model development¶"
   ]
  },
  {
   "cell_type": "code",
   "execution_count": 237,
   "metadata": {},
   "outputs": [
    {
     "data": {
      "text/plain": [
       "DecisionTreeClassifier(max_depth=2, max_features=2, random_state=0)"
      ]
     },
     "execution_count": 237,
     "metadata": {},
     "output_type": "execute_result"
    }
   ],
   "source": [
    "#KNeighborsClassifier\n",
    "dt= DecisionTreeClassifier(max_depth=2,max_features=2,random_state=0)\n",
    "#model training\n",
    "dt.fit(x_morg_train, y_morg_train)"
   ]
  },
  {
   "cell_type": "markdown",
   "metadata": {},
   "source": [
    "# predictions"
   ]
  },
  {
   "cell_type": "code",
   "execution_count": 238,
   "metadata": {},
   "outputs": [
    {
     "name": "stdout",
     "output_type": "stream",
     "text": [
      "Accuracy of the knn model:  0.9777777777777777\n"
     ]
    }
   ],
   "source": [
    "#Use the test data X_test to predict the output,predictions_svm\n",
    "predictions_dt = dt.predict(x_morg_test)\n",
    "#Use the real values y_test and the predicted values yhat_KNN to find the accuracy of the model \n",
    "print(\"Accuracy of the knn model: \", accuracy_score(y_morg_test,predictions_dt))"
   ]
  },
  {
   "cell_type": "code",
   "execution_count": 239,
   "metadata": {},
   "outputs": [
    {
     "data": {
      "image/png": "[encoded data removed]",
      "text/plain": [
       "<Figure size 576x432 with 2 Axes>"
      ]
     },
     "metadata": {
      "needs_background": "light"
     },
     "output_type": "display_data"
    }
   ],
   "source": [
    "#Plot the confusion matrix. Use the predicted values, yhat_KNN as the attribute.\n",
    "confusion_matrix_plot(predictions_dt)"
   ]
  },
  {
   "cell_type": "markdown",
   "metadata": {},
   "source": [
    "## Thank you\n",
    "\n",
    "I hope you found the project useful and interesting. Feel free to contact me if you have any queries or suggestions.\n",
    "\n",
    "This notebook was developed by [LAKSHMI MOUNIKA ](https://www.linkedin.com/in/mounika-kelam-a9179b196/)."
   ]
  },
  {
   "cell_type": "code",
   "execution_count": null,
   "metadata": {},
   "outputs": [],
   "source": []
  },
  {
   "cell_type": "code",
   "execution_count": null,
   "metadata": {},
   "outputs": [],
   "source": []
  }
 ],
 "metadata": {
  "kernelspec": {
   "display_name": "Python 3",
   "language": "python",
   "name": "python3"
  },
  "language_info": {
   "codemirror_mode": {
    "name": "ipython",
    "version": 3
   },
   "file_extension": ".py",
   "mimetype": "text/x-python",
   "name": "python",
   "nbconvert_exporter": "python",
   "pygments_lexer": "ipython3",
   "version": "3.8.8"
  }
 },
 "nbformat": 4,
 "nbformat_minor": 2
}
